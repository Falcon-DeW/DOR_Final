{
 "cells": [
  {
   "cell_type": "code",
   "execution_count": 19,
   "id": "176a1819",
   "metadata": {},
   "outputs": [
    {
     "name": "stdout",
     "output_type": "stream",
     "text": [
      "Gurobi Optimizer version 10.0.3 build v10.0.3rc0 (win64)\n",
      "\n",
      "CPU model: Intel(R) Core(TM) i5-10300H CPU @ 2.50GHz, instruction set [SSE2|AVX|AVX2]\n",
      "Thread count: 4 physical cores, 8 logical processors, using up to 8 threads\n",
      "\n",
      "Optimize a model with 2 rows, 16 columns and 32 nonzeros\n",
      "Model fingerprint: 0xec22cef6\n",
      "Variable types: 0 continuous, 16 integer (16 binary)\n",
      "Coefficient statistics:\n",
      "  Matrix range     [2e+04, 3e+05]\n",
      "  Objective range  [1e+00, 1e+00]\n",
      "  Bounds range     [1e+00, 1e+00]\n",
      "  RHS range        [7e+05, 7e+05]\n",
      "Found heuristic solution: objective 9.0000000\n",
      "Presolve time: 0.00s\n",
      "Presolved: 2 rows, 16 columns, 32 nonzeros\n",
      "Variable types: 0 continuous, 16 integer (16 binary)\n",
      "\n",
      "Root relaxation: objective 1.291481e+01, 1 iterations, 0.00 seconds (0.00 work units)\n",
      "\n",
      "    Nodes    |    Current Node    |     Objective Bounds      |     Work\n",
      " Expl Unexpl |  Obj  Depth IntInf | Incumbent    BestBd   Gap | It/Node Time\n",
      "\n",
      "     0     0   12.91481    0    1    9.00000   12.91481  43.5%     -    0s\n",
      "H    0     0                      12.0000000   12.91481  7.62%     -    0s\n",
      "     0     0   12.91481    0    1   12.00000   12.91481  7.62%     -    0s\n",
      "\n",
      "Explored 1 nodes (1 simplex iterations) in 0.02 seconds (0.00 work units)\n",
      "Thread count was 8 (of 8 available processors)\n",
      "\n",
      "Solution count 2: 12 9 \n",
      "\n",
      "Optimal solution found (tolerance 1.00e-04)\n",
      "Best objective 1.200000000000e+01, best bound 1.200000000000e+01, gap 0.0000%\n",
      "x1 0\n",
      "x2 0\n",
      "x3 1\n",
      "x4 1\n",
      "x5 0\n",
      "x6 1\n",
      "x7 0\n",
      "x8 1\n",
      "x9 1\n",
      "x10 1\n",
      "x11 1\n",
      "x12 1\n",
      "x13 1\n",
      "x14 1\n",
      "x15 1\n",
      "x16 1\n",
      "Obj: 12\n"
     ]
    }
   ],
   "source": [
    "# Importing gurobi and data\n",
    "import gurobipy as gp\n",
    "from gurobipy import GRB\n",
    "\n",
    "total_pop = 1362359\n",
    "# County populations\n",
    "p = [211972,152199,123642,57777,16800,35237,303069,55478,40607,29456,67105,50477,111139,36699,31095,39607]\n",
    "\n",
    "# Gurobi Model\n",
    "m = gp.Model(\"p1\")\n",
    "\n",
    "# Adding variables\n",
    "x = [m.addVar(vtype=GRB.BINARY, name=\"x1\"),\n",
    "m.addVar(vtype=GRB.BINARY, name=\"x2\"),\n",
    "m.addVar(vtype=GRB.BINARY, name=\"x3\"),\n",
    "m.addVar(vtype=GRB.BINARY, name=\"x4\"),\n",
    "m.addVar(vtype=GRB.BINARY, name=\"x5\"),\n",
    "m.addVar(vtype=GRB.BINARY, name=\"x6\"),\n",
    "m.addVar(vtype=GRB.BINARY, name=\"x7\"),\n",
    "m.addVar(vtype=GRB.BINARY, name=\"x8\"),\n",
    "m.addVar(vtype=GRB.BINARY, name=\"x9\"),\n",
    "m.addVar(vtype=GRB.BINARY, name=\"x10\"),\n",
    "m.addVar(vtype=GRB.BINARY, name=\"x11\"),\n",
    "m.addVar(vtype=GRB.BINARY, name=\"x12\"),\n",
    "m.addVar(vtype=GRB.BINARY, name=\"x13\"),\n",
    "m.addVar(vtype=GRB.BINARY, name=\"x14\"),\n",
    "m.addVar(vtype=GRB.BINARY, name=\"x15\"),\n",
    "m.addVar(vtype=GRB.BINARY, name=\"x16\")]\n",
    "\n",
    "# Adding Objective\n",
    "m.setObjective(sum(x),GRB.MAXIMIZE)\n",
    "\n",
    "# Adding Constraints\n",
    "\n",
    "# Upper Population Bound\n",
    "m.addConstr(p[0]*x[0]+p[1]*x[1]+p[2]*x[2]+p[3]*x[3]+p[4]*x[4]+p[5]*x[5]+p[6]*x[6]+p[7]*x[7]+p[8]*x[8]+p[9]*x[9]+p[10]*x[10]+p[11]*x[11]+p[12]*x[12]+p[13]*x[13]+p[14]*x[14]+p[15]*x[15]<=684586,\"c0\")\n",
    "\n",
    "# Lower Population Bound\n",
    "m.addConstr(p[0]*x[0]+p[1]*x[1]+p[2]*x[2]+p[3]*x[3]+p[4]*x[4]+p[5]*x[5]+p[6]*x[6]+p[7]*x[7]+p[8]*x[8]+p[9]*x[9]+p[10]*x[10]+p[11]*x[11]+p[12]*x[12]+p[13]*x[13]+p[14]*x[14]+p[15]*x[15]>=677772,\"c1\")\n",
    "\n",
    "# Optimizing the model\n",
    "m.optimize()\n",
    "\n",
    "# Printing Results\n",
    "for v in m.getVars():\n",
    "    print('%s %g' % (v.VarName, v.X))\n",
    "\n",
    "print('Obj: %g' % m.ObjVal)"
   ]
  },
  {
   "cell_type": "code",
   "execution_count": 3,
   "id": "2fdb2496",
   "metadata": {},
   "outputs": [
    {
     "name": "stdout",
     "output_type": "stream",
     "text": [
      "District 1 Population: 678319\n",
      "District 2 Population: 684040\n"
     ]
    }
   ],
   "source": [
    "# Population For districts\n",
    "p1=p[2]+p[3]+p[5]+p[7]+p[8]+p[9]+p[10]+p[11]+p[12]+p[13]+p[14]+p[15]\n",
    "print(\"District 1 Population:\",p1)\n",
    "print(\"District 2 Population:\",total_pop-p1)"
   ]
  },
  {
   "cell_type": "code",
   "execution_count": null,
   "id": "645ffd94",
   "metadata": {},
   "outputs": [],
   "source": []
  }
 ],
 "metadata": {
  "kernelspec": {
   "display_name": "Python 3 (ipykernel)",
   "language": "python",
   "name": "python3"
  },
  "language_info": {
   "codemirror_mode": {
    "name": "ipython",
    "version": 3
   },
   "file_extension": ".py",
   "mimetype": "text/x-python",
   "name": "python",
   "nbconvert_exporter": "python",
   "pygments_lexer": "ipython3",
   "version": "3.9.13"
  }
 },
 "nbformat": 4,
 "nbformat_minor": 5
}
